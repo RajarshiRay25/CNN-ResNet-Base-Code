{
  "nbformat": 4,
  "nbformat_minor": 0,
  "metadata": {
    "colab": {
      "provenance": [],
      "authorship_tag": "ABX9TyPHUvDn4kra9On59WijfWeJ",
      "include_colab_link": true
    },
    "kernelspec": {
      "name": "python3",
      "display_name": "Python 3"
    },
    "language_info": {
      "name": "python"
    }
  },
  "cells": [
    {
      "cell_type": "markdown",
      "metadata": {
        "id": "view-in-github",
        "colab_type": "text"
      },
      "source": [
        "<a href=\"https://colab.research.google.com/github/RajarshiRay25/CNN-ResNet-Base-Code/blob/main/ResNET_Base_Code.ipynb\" target=\"_parent\"><img src=\"https://colab.research.google.com/assets/colab-badge.svg\" alt=\"Open In Colab\"/></a>"
      ]
    },
    {
      "cell_type": "code",
      "execution_count": null,
      "metadata": {
        "id": "y9LKpoaYo0ud"
      },
      "outputs": [],
      "source": [
        "# ResNet50\n",
        "\n",
        "from tensorflow.keras.applications.resnet50 import ResNet50\n",
        "from tensorflow.keras.applications.resnet50 import decode_predictions\n",
        "from keras.applications.resnet50 import preprocess_input\n",
        "\n",
        "from keras.preprocessing import image\n",
        "import numpy as np\n",
        "import matplotlib.pyplot as plt\n",
        "import os\n",
        "from os import listdir\n",
        "from PIL import Image as PImage"
      ]
    },
    {
      "cell_type": "code",
      "source": [
        "img_width, img_height = 224, 224\n",
        "\n",
        "model_pretrained = ResNet50(weights='imagenet',\n",
        "                      include_top=True,\n",
        "                      input_shape=(img_height, img_width, 3))"
      ],
      "metadata": {
        "id": "8ojWYTJipD4O"
      },
      "execution_count": null,
      "outputs": []
    },
    {
      "cell_type": "code",
      "source": [
        "# Insert correct path of your image below\n",
        "img_path = '/content/drive/My Drive/My ML Project /DL Project/Transfer Learning/images/lemon.png'\n",
        "img = image.load_img(img_path, target_size=(img_width, img_height))\n",
        "img_data = image.img_to_array(img)\n",
        "img_data = np.expand_dims(img_data, axis=0)\n",
        "img_data = preprocess_input(img_data)"
      ],
      "metadata": {
        "id": "bZvL02_EpILG"
      },
      "execution_count": null,
      "outputs": []
    },
    {
      "cell_type": "code",
      "source": [
        "#predict the result\n",
        "cnn_feature = model_pretrained.predict(img_data,verbose=0)\n",
        "# decode the results into a list of tuples (class, description, probability)\n",
        "label = decode_predictions(cnn_feature)\n",
        "label = label[0][0]"
      ],
      "metadata": {
        "id": "zQ7QxqwwpMJ2"
      },
      "execution_count": null,
      "outputs": []
    },
    {
      "cell_type": "code",
      "source": [
        "plt.imshow(img)"
      ],
      "metadata": {
        "id": "AN-1JNoSpO41"
      },
      "execution_count": null,
      "outputs": []
    },
    {
      "cell_type": "code",
      "source": [
        "stringprint =\"%.1f\" % round(label[2]*100,1)\n",
        "plt.title(label[1] + \" \" + str(stringprint) + \"%\", fontsize=20)\n",
        "plt.axis('off')\n",
        "plt.show()"
      ],
      "metadata": {
        "id": "NwaC8CAPpZom"
      },
      "execution_count": null,
      "outputs": []
    },
    {
      "cell_type": "code",
      "source": [
        "# decode the results into a list of tuples (class, description, probability)\n",
        "# (one such list for each sample in the batch)\n",
        "print('Predicted:', decode_predictions(cnn_feature, top=3)[0])\n",
        "\n",
        "label"
      ],
      "metadata": {
        "id": "74S-9cxGpdVm"
      },
      "execution_count": null,
      "outputs": []
    },
    {
      "cell_type": "code",
      "source": [
        "# Insert correct path of your image below\n",
        "img_path = '/content/drive/My Drive/My ML Project /DL Project/Transfer Learning/images/flowers-5463475_640.jpg'\n",
        "img = image.load_img(img_path, target_size=(img_width, img_height))\n",
        "img_data = image.img_to_array(img)\n",
        "img_data = np.expand_dims(img_data, axis=0)\n",
        "img_data = preprocess_input(img_data)\n",
        "\n",
        "#predict the result\n",
        "cnn_feature = model_pretrained.predict(img_data,verbose=0)\n",
        "# decode the results into a list of tuples (class, description, probability)\n",
        "label = decode_predictions(cnn_feature)\n",
        "label = label[0][0]"
      ],
      "metadata": {
        "id": "5LhE4bVXpg01"
      },
      "execution_count": null,
      "outputs": []
    },
    {
      "cell_type": "code",
      "source": [
        "plt.imshow(img)"
      ],
      "metadata": {
        "id": "kTu6M8N3ppct"
      },
      "execution_count": null,
      "outputs": []
    },
    {
      "cell_type": "code",
      "source": [
        "stringprint =\"%.1f\" % round(label[2]*100,1)\n",
        "plt.title(label[1] + \" \" + str(stringprint) + \"%\", fontsize=20)\n",
        "plt.axis('off')\n",
        "plt.show()"
      ],
      "metadata": {
        "id": "T2oMj-XFpqFR"
      },
      "execution_count": null,
      "outputs": []
    },
    {
      "cell_type": "code",
      "source": [
        "# decode the results into a list of tuples (class, description, probability)\n",
        "# (one such list for each sample in the batch)\n",
        "print('Predicted:', decode_predictions(cnn_feature, top=3)[0])"
      ],
      "metadata": {
        "id": "ejJCCj_up5ic"
      },
      "execution_count": null,
      "outputs": []
    },
    {
      "cell_type": "code",
      "source": [
        "# Insert correct path of your image folder below\n",
        "\n",
        "folder_path = '/content/drive/My Drive/My ML Project /DL Project/Transfer Learning/images/'\n",
        "images = os.listdir(folder_path)\n",
        "fig = plt.figure(figsize=(16,20))\n",
        "i=0\n",
        "rows=4\n",
        "columns=3"
      ],
      "metadata": {
        "id": "xWWcR3_Wp7oc"
      },
      "execution_count": null,
      "outputs": []
    },
    {
      "cell_type": "code",
      "source": [
        "for image1 in images:\n",
        "    i+=1\n",
        "    img = image.load_img(folder_path+image1, target_size=(img_width, img_height))\n",
        "    img_data = image.img_to_array(img)\n",
        "    img_data = np.expand_dims(img_data, axis=0)\n",
        "    img_data = preprocess_input(img_data)\n",
        "\n",
        "    cnn_feature = model_pretrained.predict(img_data,verbose=0)\n",
        "    label = decode_predictions(cnn_feature)\n",
        "    label = label[0][0]\n",
        "\n",
        "    fig.add_subplot(rows,columns,i)\n",
        "    fig.subplots_adjust(hspace=.5)\n",
        "\n",
        "    plt.imshow(img)\n",
        "    stringprint =\"%.1f\" % round(label[2]*100,1)\n",
        "    plt.title(label[1] + \" \" + str(stringprint) + \"%\", fontsize=20)\n",
        "    plt.axis('off')"
      ],
      "metadata": {
        "id": "wWFcwGNup-hk"
      },
      "execution_count": null,
      "outputs": []
    },
    {
      "cell_type": "code",
      "source": [
        "plt.show()"
      ],
      "metadata": {
        "id": "3e9vivLRqBB-"
      },
      "execution_count": null,
      "outputs": []
    }
  ]
}